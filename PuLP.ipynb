{
 "cells": [
  {
   "cell_type": "markdown",
   "metadata": {},
   "source": [
    " ## Solving Capacitated Lot Sizing Problem using PuLP"
   ]
  },
  {
   "cell_type": "code",
   "execution_count": 1,
   "metadata": {},
   "outputs": [],
   "source": [
    "import random as r\n",
    "import numpy as np\n",
    "import time\n",
    "import pandas as pd\n",
    "from collections import defaultdict"
   ]
  },
  {
   "cell_type": "code",
   "execution_count": 2,
   "metadata": {},
   "outputs": [],
   "source": [
    "data = pd.read_excel(\"Data.xlsx\",header=0)\n",
    "invt_data = pd.read_excel(\"Initial Inventory.xlsx\",header=0)"
   ]
  },
  {
   "cell_type": "code",
   "execution_count": 3,
   "metadata": {},
   "outputs": [
    {
     "data": {
      "text/html": [
       "<div>\n",
       "<style scoped>\n",
       "    .dataframe tbody tr th:only-of-type {\n",
       "        vertical-align: middle;\n",
       "    }\n",
       "\n",
       "    .dataframe tbody tr th {\n",
       "        vertical-align: top;\n",
       "    }\n",
       "\n",
       "    .dataframe thead th {\n",
       "        text-align: right;\n",
       "    }\n",
       "</style>\n",
       "<table border=\"1\" class=\"dataframe\">\n",
       "  <thead>\n",
       "    <tr style=\"text-align: right;\">\n",
       "      <th></th>\n",
       "      <th>Index Part</th>\n",
       "      <th>Part</th>\n",
       "      <th>Machine 1 \\n(preferred)</th>\n",
       "      <th>Setup time M1\\n[Min]</th>\n",
       "      <th>Setup costs M1</th>\n",
       "      <th>Inventory costs \\nct/day</th>\n",
       "      <th>Reject rate [%]</th>\n",
       "      <th>Machine availability\\n[%]</th>\n",
       "      <th>Cycle time\\n[s]</th>\n",
       "      <th>Req. Worker</th>\n",
       "      <th>...</th>\n",
       "      <th>Size container</th>\n",
       "      <th>Buffer Capacity</th>\n",
       "      <th>Demand Mo</th>\n",
       "      <th>Demand Tu</th>\n",
       "      <th>Demand We</th>\n",
       "      <th>Demand Th</th>\n",
       "      <th>Demand Fr</th>\n",
       "      <th>Demand Sa</th>\n",
       "      <th>Demand Su</th>\n",
       "      <th>Demand Week</th>\n",
       "    </tr>\n",
       "  </thead>\n",
       "  <tbody>\n",
       "    <tr>\n",
       "      <th>0</th>\n",
       "      <td>1</td>\n",
       "      <td>Stoßfänger vorne A1</td>\n",
       "      <td>1</td>\n",
       "      <td>15</td>\n",
       "      <td>93</td>\n",
       "      <td>7.8</td>\n",
       "      <td>0.050000</td>\n",
       "      <td>90</td>\n",
       "      <td>76</td>\n",
       "      <td>1</td>\n",
       "      <td>...</td>\n",
       "      <td>6</td>\n",
       "      <td>672</td>\n",
       "      <td>458</td>\n",
       "      <td>465</td>\n",
       "      <td>481</td>\n",
       "      <td>560</td>\n",
       "      <td>298</td>\n",
       "      <td>0</td>\n",
       "      <td>0</td>\n",
       "      <td>2262</td>\n",
       "    </tr>\n",
       "    <tr>\n",
       "      <th>1</th>\n",
       "      <td>2</td>\n",
       "      <td>Stoßfänger vorne A2</td>\n",
       "      <td>1</td>\n",
       "      <td>15</td>\n",
       "      <td>93</td>\n",
       "      <td>8.2</td>\n",
       "      <td>0.060000</td>\n",
       "      <td>90</td>\n",
       "      <td>77</td>\n",
       "      <td>1</td>\n",
       "      <td>...</td>\n",
       "      <td>6</td>\n",
       "      <td>510</td>\n",
       "      <td>36</td>\n",
       "      <td>84</td>\n",
       "      <td>64</td>\n",
       "      <td>60</td>\n",
       "      <td>16</td>\n",
       "      <td>0</td>\n",
       "      <td>0</td>\n",
       "      <td>260</td>\n",
       "    </tr>\n",
       "    <tr>\n",
       "      <th>2</th>\n",
       "      <td>3</td>\n",
       "      <td>Schwellerverkleidung A1</td>\n",
       "      <td>1</td>\n",
       "      <td>15</td>\n",
       "      <td>83</td>\n",
       "      <td>4.0</td>\n",
       "      <td>0.066667</td>\n",
       "      <td>90</td>\n",
       "      <td>75</td>\n",
       "      <td>1</td>\n",
       "      <td>...</td>\n",
       "      <td>24</td>\n",
       "      <td>912</td>\n",
       "      <td>251</td>\n",
       "      <td>251</td>\n",
       "      <td>251</td>\n",
       "      <td>251</td>\n",
       "      <td>251</td>\n",
       "      <td>126</td>\n",
       "      <td>0</td>\n",
       "      <td>1381</td>\n",
       "    </tr>\n",
       "    <tr>\n",
       "      <th>3</th>\n",
       "      <td>4</td>\n",
       "      <td>Schwellerverkleidung A2</td>\n",
       "      <td>1</td>\n",
       "      <td>15</td>\n",
       "      <td>83</td>\n",
       "      <td>4.0</td>\n",
       "      <td>0.040018</td>\n",
       "      <td>90</td>\n",
       "      <td>63</td>\n",
       "      <td>1</td>\n",
       "      <td>...</td>\n",
       "      <td>24</td>\n",
       "      <td>360</td>\n",
       "      <td>23</td>\n",
       "      <td>23</td>\n",
       "      <td>23</td>\n",
       "      <td>23</td>\n",
       "      <td>23</td>\n",
       "      <td>11</td>\n",
       "      <td>0</td>\n",
       "      <td>126</td>\n",
       "    </tr>\n",
       "    <tr>\n",
       "      <th>4</th>\n",
       "      <td>5</td>\n",
       "      <td>Stoßfänger vorne B</td>\n",
       "      <td>2</td>\n",
       "      <td>15</td>\n",
       "      <td>72</td>\n",
       "      <td>6.7</td>\n",
       "      <td>0.050764</td>\n",
       "      <td>90</td>\n",
       "      <td>76</td>\n",
       "      <td>1</td>\n",
       "      <td>...</td>\n",
       "      <td>6</td>\n",
       "      <td>462</td>\n",
       "      <td>142</td>\n",
       "      <td>136</td>\n",
       "      <td>116</td>\n",
       "      <td>131</td>\n",
       "      <td>76</td>\n",
       "      <td>0</td>\n",
       "      <td>0</td>\n",
       "      <td>601</td>\n",
       "    </tr>\n",
       "  </tbody>\n",
       "</table>\n",
       "<p>5 rows × 21 columns</p>\n",
       "</div>"
      ],
      "text/plain": [
       "   Index Part                     Part  Machine 1 \\n(preferred)   \\\n",
       "0           1      Stoßfänger vorne A1                         1   \n",
       "1           2      Stoßfänger vorne A2                         1   \n",
       "2           3  Schwellerverkleidung A1                         1   \n",
       "3           4  Schwellerverkleidung A2                         1   \n",
       "4           5       Stoßfänger vorne B                         2   \n",
       "\n",
       "   Setup time M1\\n[Min]  Setup costs M1  Inventory costs \\nct/day  \\\n",
       "0                    15              93                       7.8   \n",
       "1                    15              93                       8.2   \n",
       "2                    15              83                       4.0   \n",
       "3                    15              83                       4.0   \n",
       "4                    15              72                       6.7   \n",
       "\n",
       "   Reject rate [%]  Machine availability\\n[%]  Cycle time\\n[s]  Req. Worker  \\\n",
       "0         0.050000                         90               76            1   \n",
       "1         0.060000                         90               77            1   \n",
       "2         0.066667                         90               75            1   \n",
       "3         0.040018                         90               63            1   \n",
       "4         0.050764                         90               76            1   \n",
       "\n",
       "   ...  Size container  Buffer Capacity  Demand Mo  Demand Tu  Demand We  \\\n",
       "0  ...               6              672        458        465        481   \n",
       "1  ...               6              510         36         84         64   \n",
       "2  ...              24              912        251        251        251   \n",
       "3  ...              24              360         23         23         23   \n",
       "4  ...               6              462        142        136        116   \n",
       "\n",
       "   Demand Th  Demand Fr  Demand Sa  Demand Su  Demand Week  \n",
       "0        560        298          0          0         2262  \n",
       "1         60         16          0          0          260  \n",
       "2        251        251        126          0         1381  \n",
       "3         23         23         11          0          126  \n",
       "4        131         76          0          0          601  \n",
       "\n",
       "[5 rows x 21 columns]"
      ]
     },
     "execution_count": 3,
     "metadata": {},
     "output_type": "execute_result"
    }
   ],
   "source": [
    "data.drop(columns=['Index Machine','Demand Mo.1', 'Demand Tu.1',\n",
    "       'Demand We.1', 'Demand Th.1', 'Demand Fr.1', 'Demand Sa.1',\n",
    "       'Demand Su.1', 'Demand Mo.2', 'Demand Tu.2', 'Demand We.2',\n",
    "       'Demand Th.2', 'Demand Fr.2', 'Demand Sa.2', 'Demand Su.2',\n",
    "       'Demand Mo.3', 'Demand Tu.3', 'Demand We.3', 'Demand Th.3',\n",
    "       'Demand Fr.3', 'Demand Sa.3', 'Demand Su.3', 'Demand Mo.4',\n",
    "       'Demand Tu.4', 'Demand We.4', 'Demand Th.4', 'Demand Fr.4',\n",
    "       'Demand Sa.4', 'Demand Su.4', 'Demand Mo.5', 'Demand Tu.5',\n",
    "       'Demand We.5', 'Demand Th.5', 'Demand Fr.5', 'Demand Sa.5',\n",
    "       'Demand Su.5', 'Demand Mo.6', 'Demand Tu.6', 'Demand We.6',\n",
    "       'Demand Th.6', 'Demand Fr.6', 'Demand Sa.6', 'Demand Su.6',\n",
    "       'Demand Mo.7', 'Demand Tu.7', 'Demand We.7', 'Demand Th.7',\n",
    "       'Demand Fr.7', 'Demand Sa.7', 'Demand Su.7', 'Demand Mo.8',\n",
    "       'Demand Tu.8', 'Demand We.8', 'Demand Th.8', 'Demand Fr.8',\n",
    "       'Demand Sa.8', 'Demand Su.8', 'Demand Mo.9', 'Demand Tu.9',\n",
    "       'Demand We.9', 'Demand Th.9', 'Demand Fr.9', 'Demand Sa.9',\n",
    "       'Demand Su.9', 'Demand Mo.10', 'Demand Tu.10', 'Demand We.10',\n",
    "       'Demand Th.10', 'Demand Fr.10', 'Demand Sa.10', 'Demand Su.10',\n",
    "       'Demand Mo.11','Total Time'], inplace=True)\n",
    "data.head()"
   ]
  },
  {
   "cell_type": "code",
   "execution_count": 4,
   "metadata": {},
   "outputs": [
    {
     "data": {
      "text/html": [
       "<div>\n",
       "<style scoped>\n",
       "    .dataframe tbody tr th:only-of-type {\n",
       "        vertical-align: middle;\n",
       "    }\n",
       "\n",
       "    .dataframe tbody tr th {\n",
       "        vertical-align: top;\n",
       "    }\n",
       "\n",
       "    .dataframe thead th {\n",
       "        text-align: right;\n",
       "    }\n",
       "</style>\n",
       "<table border=\"1\" class=\"dataframe\">\n",
       "  <thead>\n",
       "    <tr style=\"text-align: right;\">\n",
       "      <th></th>\n",
       "      <th>Part</th>\n",
       "      <th>Safety stock</th>\n",
       "      <th>Week 1</th>\n",
       "      <th>Week 2</th>\n",
       "      <th>Week 3</th>\n",
       "      <th>Week 4</th>\n",
       "      <th>Week 5</th>\n",
       "      <th>Week 6</th>\n",
       "      <th>Week 7</th>\n",
       "      <th>Week 8</th>\n",
       "      <th>Week 9</th>\n",
       "      <th>Week 10</th>\n",
       "      <th>Week 11</th>\n",
       "    </tr>\n",
       "  </thead>\n",
       "  <tbody>\n",
       "    <tr>\n",
       "      <th>0</th>\n",
       "      <td>Stoßfänger vorne A1</td>\n",
       "      <td>50</td>\n",
       "      <td>614</td>\n",
       "      <td>552</td>\n",
       "      <td>252</td>\n",
       "      <td>576</td>\n",
       "      <td>372</td>\n",
       "      <td>459</td>\n",
       "      <td>386</td>\n",
       "      <td>336</td>\n",
       "      <td>597</td>\n",
       "      <td>151</td>\n",
       "      <td>667</td>\n",
       "    </tr>\n",
       "    <tr>\n",
       "      <th>1</th>\n",
       "      <td>Stoßfänger vorne A2</td>\n",
       "      <td>50</td>\n",
       "      <td>160</td>\n",
       "      <td>402</td>\n",
       "      <td>360</td>\n",
       "      <td>372</td>\n",
       "      <td>195</td>\n",
       "      <td>218</td>\n",
       "      <td>328</td>\n",
       "      <td>250</td>\n",
       "      <td>422</td>\n",
       "      <td>329</td>\n",
       "      <td>231</td>\n",
       "    </tr>\n",
       "    <tr>\n",
       "      <th>2</th>\n",
       "      <td>Schwellerverkleidung A1</td>\n",
       "      <td>150</td>\n",
       "      <td>562</td>\n",
       "      <td>705</td>\n",
       "      <td>435</td>\n",
       "      <td>270</td>\n",
       "      <td>428</td>\n",
       "      <td>499</td>\n",
       "      <td>525</td>\n",
       "      <td>444</td>\n",
       "      <td>424</td>\n",
       "      <td>426</td>\n",
       "      <td>345</td>\n",
       "    </tr>\n",
       "    <tr>\n",
       "      <th>3</th>\n",
       "      <td>Schwellerverkleidung A2</td>\n",
       "      <td>72</td>\n",
       "      <td>195</td>\n",
       "      <td>87</td>\n",
       "      <td>237</td>\n",
       "      <td>131</td>\n",
       "      <td>204</td>\n",
       "      <td>135</td>\n",
       "      <td>252</td>\n",
       "      <td>92</td>\n",
       "      <td>157</td>\n",
       "      <td>177</td>\n",
       "      <td>177</td>\n",
       "    </tr>\n",
       "    <tr>\n",
       "      <th>4</th>\n",
       "      <td>Stoßfänger vorne B</td>\n",
       "      <td>72</td>\n",
       "      <td>198</td>\n",
       "      <td>352</td>\n",
       "      <td>229</td>\n",
       "      <td>317</td>\n",
       "      <td>170</td>\n",
       "      <td>250</td>\n",
       "      <td>276</td>\n",
       "      <td>138</td>\n",
       "      <td>176</td>\n",
       "      <td>321</td>\n",
       "      <td>384</td>\n",
       "    </tr>\n",
       "  </tbody>\n",
       "</table>\n",
       "</div>"
      ],
      "text/plain": [
       "                      Part  Safety stock  Week 1  Week 2  Week 3  Week 4  \\\n",
       "0      Stoßfänger vorne A1            50     614     552     252     576   \n",
       "1      Stoßfänger vorne A2            50     160     402     360     372   \n",
       "2  Schwellerverkleidung A1           150     562     705     435     270   \n",
       "3  Schwellerverkleidung A2            72     195      87     237     131   \n",
       "4       Stoßfänger vorne B            72     198     352     229     317   \n",
       "\n",
       "   Week 5  Week 6  Week 7  Week 8  Week 9  Week 10  Week 11  \n",
       "0     372     459     386     336     597      151      667  \n",
       "1     195     218     328     250     422      329      231  \n",
       "2     428     499     525     444     424      426      345  \n",
       "3     204     135     252      92     157      177      177  \n",
       "4     170     250     276     138     176      321      384  "
      ]
     },
     "execution_count": 4,
     "metadata": {},
     "output_type": "execute_result"
    }
   ],
   "source": [
    "invt_data.head()"
   ]
  },
  {
   "cell_type": "code",
   "execution_count": 5,
   "metadata": {},
   "outputs": [],
   "source": [
    "initial_inventory = invt_data['Week 1']\n",
    "safety_stock = invt_data['Safety stock']"
   ]
  },
  {
   "cell_type": "code",
   "execution_count": 6,
   "metadata": {},
   "outputs": [],
   "source": [
    "no_of_items = data['Part'].count()\n",
    "no_of_machines = 7\n",
    "no_of_period = 6"
   ]
  },
  {
   "cell_type": "code",
   "execution_count": 7,
   "metadata": {},
   "outputs": [],
   "source": [
    "demand = [data.iloc[i][j] for i in range(no_of_items) for j in range(13,19)]"
   ]
  },
  {
   "cell_type": "code",
   "execution_count": 8,
   "metadata": {},
   "outputs": [],
   "source": [
    "buffer_cap = data['Buffer Capacity']\n",
    "setup_cost = data['Setup costs M1']\n",
    "inventory_cost = data['Inventory costs \\nct/day']\n",
    "setup_time = data['Setup time M1\\n[Min]']*60  # convert to seconds\n",
    "production_time = data['Cycle time\\n[s]']\n",
    "container_size = data['Size container']\n",
    "machine_preference = data['Machine 1 \\n(preferred) ']"
   ]
  },
  {
   "cell_type": "code",
   "execution_count": 9,
   "metadata": {},
   "outputs": [],
   "source": [
    "item_list = [t for t in range(1,no_of_items+1)]\n",
    "period_list = [t for t in range(1,no_of_period+1)]\n",
    "machine_list = [t for t in range(1,no_of_machines+1)]\n",
    "\n",
    "machine_item_pair = [(i,j) for i,j in zip(machine_preference,item_list)]\n",
    "item_period_pair = [(j,t) for j in item_list for t in period_list]\n",
    "machine_period_pair = [(i,t) for i in machine_list for t in period_list]"
   ]
  },
  {
   "cell_type": "code",
   "execution_count": 10,
   "metadata": {},
   "outputs": [],
   "source": [
    "def set_zero():\n",
    "    return 0"
   ]
  },
  {
   "cell_type": "code",
   "execution_count": 11,
   "metadata": {},
   "outputs": [],
   "source": [
    "bjt = {(j,t): d for (j,t),d in zip(item_period_pair,demand)}               # Demand of item i at period t;\n",
    "bjt = defaultdict(set_zero,bjt)\n",
    "Bj  = {j:c for j,c in zip(item_list,buffer_cap)}                           # Buffer Capacity for part j\n",
    "Bj = defaultdict(set_zero,Bj)\n",
    "fij = {(i,j): s for (i,j),s in zip(machine_item_pair,setup_cost)}          # Setup cost of item i on machine j;\n",
    "fij = defaultdict(set_zero,fij)\n",
    "cj = {j: s for j,s in zip(item_list,inventory_cost)}                       # Unit inventory cost of item i per period;\n",
    "cj = defaultdict(set_zero,cj)\n",
    "rzij = {(i,j): s for (i,j),s in zip(machine_item_pair,setup_time)}         # Setup time of item i on machine j;\n",
    "rzij = defaultdict(set_zero,rzij)\n",
    "ZZij = {(i,j): s for (i,j),s in zip(machine_item_pair,production_time)}    # Unit production time of item j on machine i;\n",
    "ZZij = defaultdict(set_zero,ZZij)\n",
    "sfj = {j:s for j,s in zip(item_list,container_size)}                       # Size of Container of product j\n",
    "sfj = defaultdict(set_zero,sfj)\n",
    "ssj = {j:s for j,s in zip(item_list,safety_stock)}                         # safety stock for product j"
   ]
  },
  {
   "cell_type": "code",
   "execution_count": 12,
   "metadata": {},
   "outputs": [],
   "source": [
    "import pulp as pl\n",
    "from pulp import *"
   ]
  },
  {
   "cell_type": "code",
   "execution_count": 13,
   "metadata": {},
   "outputs": [],
   "source": [
    "model = LpProblem(\"CLSP\",LpMinimize)"
   ]
  },
  {
   "cell_type": "code",
   "execution_count": 14,
   "metadata": {},
   "outputs": [],
   "source": [
    "fgh = [[i,j] for i,j in zip(machine_preference,item_list)]"
   ]
  },
  {
   "cell_type": "code",
   "execution_count": 15,
   "metadata": {},
   "outputs": [],
   "source": [
    "vars_list = [ele+[period_list[i]] for ele in fgh for i in range(len(period_list))]\n",
    "variables = [tuple(var) for var in vars_list]"
   ]
  },
  {
   "cell_type": "code",
   "execution_count": 16,
   "metadata": {},
   "outputs": [],
   "source": [
    "# i -> machine , j -> item , t -> period\n",
    "qijt = LpVariable.dicts(\"Lotsize\",(variables),0,None,LpInteger)\n",
    "qijt = defaultdict(set_zero,qijt)\n",
    "\n",
    "ljt  = LpVariable.dicts(\"Inventory\",(item_period_pair),0,None,LpInteger)\n",
    "ljt = defaultdict(set_zero,ljt)\n",
    "\n",
    "zijt = LpVariable.dicts(\"Production\",(variables),0,1,LpInteger)\n",
    "zijt = defaultdict(set_zero,zijt)\n",
    "\n",
    "zstar = LpVariable.dicts(\"Setup\",(variables),0,1,LpInteger)\n",
    "zstar = defaultdict(set_zero,zstar)\n",
    "\n",
    "rrt = LpVariable.dicts(\"RemainingSetTime\",(machine_period_pair),0,None)\n",
    "rrt = defaultdict(set_zero,rrt)\n",
    "\n",
    "rt = LpVariable.dicts(\"SetupTime\",(machine_period_pair),0,None)\n",
    "rt = defaultdict(set_zero,rt)\n",
    "\n",
    "tit = LpVariable.dicts(\"ProdTime\",(machine_period_pair),0,None)\n",
    "tit = defaultdict(set_zero,tit)\n",
    "\n",
    "y1 = LpVariable.dicts(\"BinarySetup\",(variables),0,1,LpInteger)\n",
    "y1 = defaultdict(set_zero,y1)\n",
    "\n",
    "y2 = LpVariable.dicts(\"BinarySetTime\",(machine_period_pair),0,1,LpInteger)\n",
    "y2 = defaultdict(set_zero,y2)\n",
    "\n",
    "y3 = LpVariable.dicts(\"BinaryRemTime\",(machine_period_pair),0,1,LpInteger)\n",
    "y3 = defaultdict(set_zero,y3)\n",
    "\n",
    "# intvar = LpVariable.dicts(\"rand_int\",(item_period_pair),0,None,LpInteger)"
   ]
  },
  {
   "cell_type": "code",
   "execution_count": 17,
   "metadata": {},
   "outputs": [],
   "source": [
    "# adding initial inventory values\n",
    "for i in range(len(item_list)):\n",
    "    ljt[i+1,0] = initial_inventory[i]"
   ]
  },
  {
   "cell_type": "code",
   "execution_count": 18,
   "metadata": {},
   "outputs": [],
   "source": [
    "SetupCost = lpSum([fij[i,j]*zstar[i,j,t] for i,j,t in variables])\n",
    "HoldingCost = lpSum([round(cj[j])*[ljt[j,t] + ljt[j,t-1]] for j,t in item_period_pair])\n",
    "TotalCost = SetupCost + HoldingCost"
   ]
  },
  {
   "cell_type": "code",
   "execution_count": 19,
   "metadata": {},
   "outputs": [],
   "source": [
    "#Objective function\n",
    "model += TotalCost, \"Sum_of_Setup_&_Holding_Costs\""
   ]
  },
  {
   "cell_type": "code",
   "execution_count": 20,
   "metadata": {},
   "outputs": [],
   "source": [
    "# constraint 1\n",
    "for j,t in item_period_pair:\n",
    "    model += (ljt[j,t-1] + lpSum([qijt[i,j,t] for i in machine_list]) - ljt[j,t]) == bjt[j,t]"
   ]
  },
  {
   "cell_type": "code",
   "execution_count": 21,
   "metadata": {},
   "outputs": [],
   "source": [
    "# constraint 2\n",
    "for i,j,t in variables:\n",
    "    model += (qijt[i,j,t])<=zijt[i,j,t]*lpSum([bjt[j,t]])"
   ]
  },
  {
   "cell_type": "code",
   "execution_count": 22,
   "metadata": {},
   "outputs": [],
   "source": [
    "# constraint 3\n",
    "L = max(demand)*5\n",
    "for i,j,t in variables:\n",
    "    model += (qijt[i,j,t] + zstar[i,j,t]) <= L*zijt[i,j,t]"
   ]
  },
  {
   "cell_type": "code",
   "execution_count": 23,
   "metadata": {},
   "outputs": [],
   "source": [
    "# constraint 4\n",
    "M = 50\n",
    "for i,j,t in variables:\n",
    "    model += (zstar[i,j,t]) >= zijt[i,j,t] - zijt[i,j,t-1]\n",
    "    model += (zstar[i,j,t]) <= (zijt[i,j,t] - zijt[i,j,t-1]) + M*(1 - y1[i,j,t])\n",
    "    model += (zstar[i,j,t]) <= M*y1[i,j,t]"
   ]
  },
  {
   "cell_type": "code",
   "execution_count": 24,
   "metadata": {},
   "outputs": [],
   "source": [
    "# # constraint 5 (Doesn't make sense for single machine)\n",
    "# for j,t in item_period_pair:\n",
    "#     model += (lpSum([zijt[i,j,t] for i in machine_list])) <= 1    "
   ]
  },
  {
   "cell_type": "code",
   "execution_count": 25,
   "metadata": {},
   "outputs": [],
   "source": [
    "# # constraint 6 (Doesn't make sense for single machine)\n",
    "# for j,t in item_period_pair:\n",
    "#     model += (lpSum([zstar[i,j,t] for i in machine_list])) <= 1"
   ]
  },
  {
   "cell_type": "code",
   "execution_count": 26,
   "metadata": {},
   "outputs": [],
   "source": [
    "# constraint 9\n",
    "N = no_of_period*90000\n",
    "tstar = 86400\n",
    "for i,t in machine_period_pair:\n",
    "    model += (rt[i,t]) <= rrt[i,t] +  lpSum([zstar[i,j,t]*rzij[i,j] for j in item_list])\n",
    "    model += (rt[i,t]) <= tstar\n",
    "    model += (rt[i,t]) >= rrt[i,t] +  lpSum([zstar[i,j,t]*rzij[i,j] for j in item_list]) - N*(1-y2[i,t])\n",
    "    model += (rt[i,t]) >= tstar - N*y2[i,t]"
   ]
  },
  {
   "cell_type": "code",
   "execution_count": 27,
   "metadata": {},
   "outputs": [],
   "source": [
    "# constraint 10\n",
    "O = no_of_period*90000\n",
    "for i,t in machine_period_pair:\n",
    "    model += (rrt[i,t]) >= lpSum([zstar[i,j,t]*rzij[i,j] for j in item_list]) + rrt[i,t-1] - tstar\n",
    "    model += (rrt[i,t]) <= lpSum([zstar[i,j,t]*rzij[i,j] for j in item_list]) + rrt[i,t-1] - tstar + O*(1-y3[i,t])\n",
    "    model += (rrt[i,t]) <= O*y3[i,t]"
   ]
  },
  {
   "cell_type": "code",
   "execution_count": 28,
   "metadata": {},
   "outputs": [],
   "source": [
    "# constraint 11, 86400 secs in 24 hrs\n",
    "for i,t in machine_period_pair:\n",
    "    model += (tit[i,t]+ rt[i,t]) <= tstar"
   ]
  },
  {
   "cell_type": "code",
   "execution_count": 29,
   "metadata": {},
   "outputs": [],
   "source": [
    "# constraint 12\n",
    "for i,t in machine_period_pair:\n",
    "    model += (tit[i,t]) == lpSum([ZZij[i,j]*qijt[i,j,t] for j in item_list])"
   ]
  },
  {
   "cell_type": "code",
   "execution_count": 30,
   "metadata": {},
   "outputs": [],
   "source": [
    "# # constraint 13\n",
    "# for i,j,t in variables:\n",
    "#     model += (qijt[i,j,t])==intvar[j,t]*sfj[j]"
   ]
  },
  {
   "cell_type": "code",
   "execution_count": 31,
   "metadata": {},
   "outputs": [],
   "source": [
    "# constraint 14\n",
    "for j,t in item_period_pair:\n",
    "    model += (ljt[j,t]) <= Bj[j]"
   ]
  },
  {
   "cell_type": "code",
   "execution_count": 32,
   "metadata": {},
   "outputs": [],
   "source": [
    "# # new constraint\n",
    "# for i in item_list:\n",
    "#     model += (ljt[i,no_of_period]) >= ssj[i]"
   ]
  },
  {
   "cell_type": "code",
   "execution_count": 33,
   "metadata": {},
   "outputs": [],
   "source": [
    "# model.writeLP(\"CLSP_LP_Relaxation.lp\",)"
   ]
  },
  {
   "cell_type": "code",
   "execution_count": 34,
   "metadata": {},
   "outputs": [
    {
     "name": "stdout",
     "output_type": "stream",
     "text": [
      "Status:  Optimal\n",
      "80704.0\n"
     ]
    }
   ],
   "source": [
    "solver = PULP_CBC_CMD(msg=True)\n",
    "model.solve(solver)\n",
    "print(\"Status: \",LpStatus[model.status])\n",
    "print(value(model.objective))"
   ]
  },
  {
   "cell_type": "code",
   "execution_count": 35,
   "metadata": {},
   "outputs": [],
   "source": [
    "import csv"
   ]
  },
  {
   "cell_type": "code",
   "execution_count": 36,
   "metadata": {},
   "outputs": [],
   "source": [
    "import datetime \n",
    "  \n",
    "def convert(n): \n",
    "    return str(datetime.timedelta(seconds = n))"
   ]
  },
  {
   "cell_type": "code",
   "execution_count": 37,
   "metadata": {},
   "outputs": [],
   "source": [
    "LotSize = {}\n",
    "for i,j,t in variables:\n",
    "    LotSize[qijt[i,j,t]] = value(qijt[i,j,t])"
   ]
  },
  {
   "cell_type": "code",
   "execution_count": 38,
   "metadata": {},
   "outputs": [],
   "source": [
    "StartSetup = {}\n",
    "StartProd = {}\n",
    "RemainingSetupTime = {}\n",
    "for i,t in machine_period_pair:\n",
    "    StartSetup[i,t] = convert(value(rt[i,t]))\n",
    "    StartProd[i,t] = convert(value(tit[i,t]))\n",
    "    RemainingSetupTime[i,t] = convert(value(rrt[i,t]))\n"
   ]
  },
  {
   "cell_type": "code",
   "execution_count": 39,
   "metadata": {},
   "outputs": [
    {
     "data": {
      "text/html": [
       "<div>\n",
       "<style scoped>\n",
       "    .dataframe tbody tr th:only-of-type {\n",
       "        vertical-align: middle;\n",
       "    }\n",
       "\n",
       "    .dataframe tbody tr th {\n",
       "        vertical-align: top;\n",
       "    }\n",
       "\n",
       "    .dataframe thead th {\n",
       "        text-align: right;\n",
       "    }\n",
       "</style>\n",
       "<table border=\"1\" class=\"dataframe\">\n",
       "  <thead>\n",
       "    <tr style=\"text-align: right;\">\n",
       "      <th></th>\n",
       "      <th>Setup Time</th>\n",
       "      <th>Production Time</th>\n",
       "    </tr>\n",
       "  </thead>\n",
       "  <tbody>\n",
       "    <tr>\n",
       "      <th>(1, 1)</th>\n",
       "      <td>0:15:00</td>\n",
       "      <td>0:00:00</td>\n",
       "    </tr>\n",
       "    <tr>\n",
       "      <th>(1, 2)</th>\n",
       "      <td>0:00:00</td>\n",
       "      <td>6:31:24</td>\n",
       "    </tr>\n",
       "    <tr>\n",
       "      <th>(1, 3)</th>\n",
       "      <td>0:30:00</td>\n",
       "      <td>14:38:49</td>\n",
       "    </tr>\n",
       "    <tr>\n",
       "      <th>(1, 4)</th>\n",
       "      <td>0:00:00</td>\n",
       "      <td>18:20:05</td>\n",
       "    </tr>\n",
       "    <tr>\n",
       "      <th>(1, 5)</th>\n",
       "      <td>0:00:00</td>\n",
       "      <td>11:51:45</td>\n",
       "    </tr>\n",
       "    <tr>\n",
       "      <th>(1, 6)</th>\n",
       "      <td>0:00:00</td>\n",
       "      <td>2:37:30</td>\n",
       "    </tr>\n",
       "  </tbody>\n",
       "</table>\n",
       "</div>"
      ],
      "text/plain": [
       "       Setup Time Production Time\n",
       "(1, 1)    0:15:00         0:00:00\n",
       "(1, 2)    0:00:00         6:31:24\n",
       "(1, 3)    0:30:00        14:38:49\n",
       "(1, 4)    0:00:00        18:20:05\n",
       "(1, 5)    0:00:00        11:51:45\n",
       "(1, 6)    0:00:00         2:37:30"
      ]
     },
     "execution_count": 39,
     "metadata": {},
     "output_type": "execute_result"
    }
   ],
   "source": [
    "solution = pd.DataFrame.from_dict(StartSetup, orient='index',columns=['Setup Time'])\n",
    "\n",
    "solution[\"Production Time\"] = StartProd.values()\n",
    "\n",
    "solution.iloc[0:6]"
   ]
  },
  {
   "cell_type": "code",
   "execution_count": 40,
   "metadata": {},
   "outputs": [
    {
     "name": "stderr",
     "output_type": "stream",
     "text": [
      "C:\\Program Files\\Python37\\lib\\site-packages\\pandas\\core\\indexing.py:205: SettingWithCopyWarning: \n",
      "A value is trying to be set on a copy of a slice from a DataFrame\n",
      "\n",
      "See the caveats in the documentation: http://pandas.pydata.org/pandas-docs/stable/user_guide/indexing.html#returning-a-view-versus-a-copy\n",
      "  self._setitem_with_indexer(indexer, value)\n"
     ]
    },
    {
     "data": {
      "text/html": [
       "<div>\n",
       "<style scoped>\n",
       "    .dataframe tbody tr th:only-of-type {\n",
       "        vertical-align: middle;\n",
       "    }\n",
       "\n",
       "    .dataframe tbody tr th {\n",
       "        vertical-align: top;\n",
       "    }\n",
       "\n",
       "    .dataframe thead th {\n",
       "        text-align: right;\n",
       "    }\n",
       "</style>\n",
       "<table border=\"1\" class=\"dataframe\">\n",
       "  <thead>\n",
       "    <tr style=\"text-align: right;\">\n",
       "      <th></th>\n",
       "      <th>1</th>\n",
       "      <th>2</th>\n",
       "      <th>3</th>\n",
       "      <th>4</th>\n",
       "    </tr>\n",
       "  </thead>\n",
       "  <tbody>\n",
       "    <tr>\n",
       "      <th>1</th>\n",
       "      <td>0</td>\n",
       "      <td>0</td>\n",
       "      <td>0</td>\n",
       "      <td>0</td>\n",
       "    </tr>\n",
       "    <tr>\n",
       "      <th>2</th>\n",
       "      <td>309</td>\n",
       "      <td>0</td>\n",
       "      <td>0</td>\n",
       "      <td>0</td>\n",
       "    </tr>\n",
       "    <tr>\n",
       "      <th>3</th>\n",
       "      <td>481</td>\n",
       "      <td>24</td>\n",
       "      <td>191</td>\n",
       "      <td>0</td>\n",
       "    </tr>\n",
       "    <tr>\n",
       "      <th>4</th>\n",
       "      <td>560</td>\n",
       "      <td>60</td>\n",
       "      <td>251</td>\n",
       "      <td>0</td>\n",
       "    </tr>\n",
       "    <tr>\n",
       "      <th>5</th>\n",
       "      <td>298</td>\n",
       "      <td>16</td>\n",
       "      <td>251</td>\n",
       "      <td>0</td>\n",
       "    </tr>\n",
       "    <tr>\n",
       "      <th>6</th>\n",
       "      <td>0</td>\n",
       "      <td>0</td>\n",
       "      <td>126</td>\n",
       "      <td>0</td>\n",
       "    </tr>\n",
       "  </tbody>\n",
       "</table>\n",
       "</div>"
      ],
      "text/plain": [
       "     1   2    3  4\n",
       "1    0   0    0  0\n",
       "2  309   0    0  0\n",
       "3  481  24  191  0\n",
       "4  560  60  251  0\n",
       "5  298  16  251  0\n",
       "6    0   0  126  0"
      ]
     },
     "execution_count": 40,
     "metadata": {},
     "output_type": "execute_result"
    }
   ],
   "source": [
    "dummy = pd.DataFrame(columns=[1,2,3,4], index = range(1,7))\n",
    "for j in [1,2,3,4]:\n",
    "    for t in period_list:\n",
    "        dummy[j].iloc[t-1] = value(qijt[1,j,t])\n",
    "dummy"
   ]
  },
  {
   "cell_type": "code",
   "execution_count": 41,
   "metadata": {},
   "outputs": [
    {
     "data": {
      "text/html": [
       "<div>\n",
       "<style scoped>\n",
       "    .dataframe tbody tr th:only-of-type {\n",
       "        vertical-align: middle;\n",
       "    }\n",
       "\n",
       "    .dataframe tbody tr th {\n",
       "        vertical-align: top;\n",
       "    }\n",
       "\n",
       "    .dataframe thead th {\n",
       "        text-align: right;\n",
       "    }\n",
       "</style>\n",
       "<table border=\"1\" class=\"dataframe\">\n",
       "  <thead>\n",
       "    <tr style=\"text-align: right;\">\n",
       "      <th></th>\n",
       "      <th>1</th>\n",
       "      <th>2</th>\n",
       "      <th>3</th>\n",
       "      <th>4</th>\n",
       "    </tr>\n",
       "  </thead>\n",
       "  <tbody>\n",
       "    <tr>\n",
       "      <th>1</th>\n",
       "      <td>156</td>\n",
       "      <td>124</td>\n",
       "      <td>311</td>\n",
       "      <td>172</td>\n",
       "    </tr>\n",
       "    <tr>\n",
       "      <th>2</th>\n",
       "      <td>0</td>\n",
       "      <td>40</td>\n",
       "      <td>60</td>\n",
       "      <td>149</td>\n",
       "    </tr>\n",
       "    <tr>\n",
       "      <th>3</th>\n",
       "      <td>0</td>\n",
       "      <td>0</td>\n",
       "      <td>0</td>\n",
       "      <td>126</td>\n",
       "    </tr>\n",
       "    <tr>\n",
       "      <th>4</th>\n",
       "      <td>0</td>\n",
       "      <td>0</td>\n",
       "      <td>0</td>\n",
       "      <td>103</td>\n",
       "    </tr>\n",
       "    <tr>\n",
       "      <th>5</th>\n",
       "      <td>0</td>\n",
       "      <td>0</td>\n",
       "      <td>0</td>\n",
       "      <td>80</td>\n",
       "    </tr>\n",
       "    <tr>\n",
       "      <th>6</th>\n",
       "      <td>0</td>\n",
       "      <td>0</td>\n",
       "      <td>0</td>\n",
       "      <td>69</td>\n",
       "    </tr>\n",
       "  </tbody>\n",
       "</table>\n",
       "</div>"
      ],
      "text/plain": [
       "     1    2    3    4\n",
       "1  156  124  311  172\n",
       "2    0   40   60  149\n",
       "3    0    0    0  126\n",
       "4    0    0    0  103\n",
       "5    0    0    0   80\n",
       "6    0    0    0   69"
      ]
     },
     "execution_count": 41,
     "metadata": {},
     "output_type": "execute_result"
    }
   ],
   "source": [
    "dummy2 = pd.DataFrame(columns=[1,2,3,4], index = range(1,7))\n",
    "for j in [1,2,3,4]:\n",
    "    for t in period_list:\n",
    "        dummy2[j].iloc[t-1] = value(ljt[j,t])\n",
    "dummy2"
   ]
  },
  {
   "cell_type": "markdown",
   "metadata": {},
   "source": [
    "import csv\n",
    " \n",
    "\n",
    "with open('InitialSolution.csv','w') as f:\n",
    "    f_write = csv.writer(f,delimiter= \":\",quoting=csv.QUOTE_NONNUMERIC,quotechar='\"')\n",
    "    for sol in model.variables():\n",
    "        f_write.writerow([sol.name,sol.varValue])     "
   ]
  },
  {
   "cell_type": "code",
   "execution_count": 42,
   "metadata": {},
   "outputs": [
    {
     "data": {
      "text/plain": [
       "870"
      ]
     },
     "execution_count": 42,
     "metadata": {},
     "output_type": "execute_result"
    }
   ],
   "source": [
    "len(model.variables())"
   ]
  }
 ],
 "metadata": {
  "kernelspec": {
   "display_name": "Python 3",
   "language": "python",
   "name": "python3"
  },
  "language_info": {
   "codemirror_mode": {
    "name": "ipython",
    "version": 3
   },
   "file_extension": ".py",
   "mimetype": "text/x-python",
   "name": "python",
   "nbconvert_exporter": "python",
   "pygments_lexer": "ipython3",
   "version": "3.7.5"
  }
 },
 "nbformat": 4,
 "nbformat_minor": 2
}
